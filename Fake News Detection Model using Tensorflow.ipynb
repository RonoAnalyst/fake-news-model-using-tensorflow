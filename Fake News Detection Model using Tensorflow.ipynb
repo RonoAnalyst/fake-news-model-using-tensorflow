{
 "cells": [
  {
   "cell_type": "markdown",
   "id": "5b99e824-2607-4798-8d43-d67d63fc9019",
   "metadata": {},
   "source": [
    "### **Problem Statement:**\n",
    "Develop a deep learning model using TensorFlow and Keras to detect fake news articles in a given dataset (fakenews.csv). The model should classify news articles as either real or fake based on their content.\n",
    "\n",
    "### **Dataset:**\n",
    "The dataset includes columns like article_title, article_content, labels, etc., with binary labels (0 for real, 1 for fake).\n",
    "\n",
    "### **Objective:**\n",
    "Create a reliable model for automatic fake news detection to mitigate the spread of misinformation.\n",
    "\n",
    "### **Deliverables:**\n",
    "A Jupyter Notebook containing code for data preprocessing, model development, training, and evaluation, along with a brief report summarizing the project's findings and model performance."
   ]
  },
  {
   "cell_type": "code",
   "execution_count": 9,
   "id": "f8cfb832-791b-48f2-8f2e-9a71ecc98ee1",
   "metadata": {
    "tags": []
   },
   "outputs": [
    {
     "name": "stdout",
     "output_type": "stream",
     "text": [
      "Epoch 1/10\n",
      "21/21 [==============================] - 3s 35ms/step - loss: 0.6937 - accuracy: 0.5086\n",
      "Epoch 2/10\n",
      "21/21 [==============================] - 1s 35ms/step - loss: 0.6659 - accuracy: 0.6081\n",
      "Epoch 3/10\n",
      "21/21 [==============================] - 1s 38ms/step - loss: 0.6307 - accuracy: 0.7807\n",
      "Epoch 4/10\n",
      "21/21 [==============================] - 1s 40ms/step - loss: 0.5757 - accuracy: 0.8834\n",
      "Epoch 5/10\n",
      "21/21 [==============================] - 1s 43ms/step - loss: 0.5105 - accuracy: 0.8942\n",
      "Epoch 6/10\n",
      "21/21 [==============================] - 1s 40ms/step - loss: 0.4400 - accuracy: 0.9176\n",
      "Epoch 7/10\n",
      "21/21 [==============================] - 1s 42ms/step - loss: 0.3750 - accuracy: 0.9300\n",
      "Epoch 8/10\n",
      "21/21 [==============================] - 1s 40ms/step - loss: 0.3118 - accuracy: 0.9456\n",
      "Epoch 9/10\n",
      "21/21 [==============================] - 1s 38ms/step - loss: 0.2647 - accuracy: 0.9533\n",
      "Epoch 10/10\n",
      "21/21 [==============================] - 1s 30ms/step - loss: 0.2273 - accuracy: 0.9611\n",
      "6/6 [==============================] - 0s 16ms/step\n",
      "Accuracy: 0.6024844720496895\n",
      "Classification Report:\n",
      "               precision    recall  f1-score   support\n",
      "\n",
      "           0       0.55      0.65      0.59        72\n",
      "           1       0.67      0.56      0.61        89\n",
      "\n",
      "    accuracy                           0.60       161\n",
      "   macro avg       0.61      0.61      0.60       161\n",
      "weighted avg       0.61      0.60      0.60       161\n",
      "\n"
     ]
    }
   ],
   "source": [
    "import pandas as pd\n",
    "import tensorflow as tf\n",
    "from tensorflow import keras\n",
    "from sklearn.model_selection import train_test_split\n",
    "from sklearn.metrics import accuracy_score, classification_report\n",
    "from sklearn.feature_extraction.text import TfidfVectorizer\n",
    "\n",
    "# Load the dataset with the correct column names\n",
    "data = pd.read_csv('fakenews.csv', encoding='latin1')\n",
    "\n",
    "# Use the 'article_content' column as the text data and 'labels' as labels\n",
    "X = data['article_content'].astype(str).values\n",
    "y = data['labels'].values\n",
    "\n",
    "# Split the data into training and testing sets\n",
    "X_train, X_test, y_train, y_test = train_test_split(X, y, test_size=0.2, random_state=42)\n",
    "\n",
    "# Data preprocessing\n",
    "vectorizer = TfidfVectorizer(max_features=5000)\n",
    "X_train = vectorizer.fit_transform(X_train).toarray()\n",
    "X_test = vectorizer.transform(X_test).toarray()\n",
    "\n",
    "# Build the neural network model\n",
    "model = keras.Sequential([\n",
    "    keras.layers.Dense(128, activation='relu', input_shape=(X_train.shape[1],)),\n",
    "    keras.layers.Dropout(0.2),\n",
    "    keras.layers.Dense(1, activation='sigmoid')\n",
    "])\n",
    "\n",
    "# Compile the model\n",
    "model.compile(optimizer='adam',\n",
    "              loss='binary_crossentropy',\n",
    "              metrics=['accuracy'])\n",
    "\n",
    "# Train the model\n",
    "model.fit(X_train, y_train, epochs=10, batch_size=32)\n",
    "\n",
    "# Evaluate the model\n",
    "y_pred = (model.predict(X_test) > 0.5).astype(int)\n",
    "accuracy = accuracy_score(y_test, y_pred)\n",
    "report = classification_report(y_test, y_pred)\n",
    "\n",
    "print(\"Accuracy:\", accuracy)\n",
    "print(\"Classification Report:\\n\", report)"
   ]
  },
  {
   "cell_type": "code",
   "execution_count": null,
   "id": "68c453e1-657e-40f1-9bb5-e010cac8e210",
   "metadata": {},
   "outputs": [],
   "source": []
  }
 ],
 "metadata": {
  "kernelspec": {
   "display_name": "Python 3 (ipykernel)",
   "language": "python",
   "name": "python3"
  },
  "language_info": {
   "codemirror_mode": {
    "name": "ipython",
    "version": 3
   },
   "file_extension": ".py",
   "mimetype": "text/x-python",
   "name": "python",
   "nbconvert_exporter": "python",
   "pygments_lexer": "ipython3",
   "version": "3.10.13"
  }
 },
 "nbformat": 4,
 "nbformat_minor": 5
}
